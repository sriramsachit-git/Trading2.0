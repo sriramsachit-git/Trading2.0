{
 "cells": [
  {
   "cell_type": "code",
   "execution_count": 36,
   "metadata": {},
   "outputs": [
    {
     "name": "stdout",
     "output_type": "stream",
     "text": [
      "<class 'pandas.core.frame.DataFrame'>\n",
      "RangeIndex: 86482762 entries, 0 to 86482761\n",
      "Data columns (total 10 columns):\n",
      " #   Column       Dtype  \n",
      "---  ------       -----  \n",
      " 0   symbol       object \n",
      " 1   timestamp    object \n",
      " 2   open         float64\n",
      " 3   high         float64\n",
      " 4   low          float64\n",
      " 5   close        float64\n",
      " 6   volume       float64\n",
      " 7   trade_count  float64\n",
      " 8   vwap         float64\n",
      " 9   ticker       object \n",
      "dtypes: float64(7), object(3)\n",
      "memory usage: 6.4+ GB\n",
      "Tickers after filtering: ['AAPL', 'ACN', 'ADBE', 'ADI', 'ADP', 'ADSK', 'AMAT', 'AMD', 'ANET', 'APH', 'ASML', 'ASX', 'AVGO', 'BR', 'CDNS', 'CDW', 'CHKP', 'CPAY', 'CRM', 'CRWD', 'CSCO', 'CTSH', 'CYBR', 'DDOG', 'DELL', 'ERIC', 'FI', 'FICO', 'FIS', 'FTNT', 'GDDY', 'GIB', 'GLW', 'GRMN', 'HPE', 'HPQ', 'HUBS', 'IBM', 'INFY', 'INTC', 'INTU', 'IT', 'JBL', 'KEYS', 'KLAC', 'LDOS', 'LRCX', 'MCHP', 'MPWR', 'MRVL', 'MSFT', 'MSI', 'MSTR', 'MU', 'NET', 'NOK', 'NOW', 'NTAP', 'NVDA', 'NXPI', 'ON', 'ORCL', 'PANW', 'PAYX', 'PLTR', 'PTC', 'QCOM', 'ROP', 'SAP', 'SHOP', 'SMCI', 'SNOW', 'SNPS', 'SONY', 'SSNC', 'STM', 'STX', 'TDY', 'TEAM', 'TEL', 'TSM', 'TXN', 'TYL', 'UBER', 'UI', 'VRSN', 'WDAY', 'WDC', 'WIT', 'XYZ', 'ZM', 'ZS']\n",
      "symbol          AAPL       ACN      ADBE       ADI       ADP      ADSK  \\\n",
      "timestamp                                                                \n",
      "2020-10-01  0.004238 -0.003547  0.017708  0.019105 -0.012725  0.012814   \n",
      "2020-10-02 -0.036044 -0.014144 -0.046000 -0.041975  0.007045 -0.032997   \n",
      "2020-10-05  0.028181  0.006596  0.019811  0.017755  0.016535  0.011890   \n",
      "2020-10-06 -0.022086 -0.016883 -0.018049 -0.009567  0.009150 -0.004019   \n",
      "2020-10-07  0.019138  0.017027  0.034187  0.032670  0.010384  0.022280   \n",
      "\n",
      "symbol          AMAT       AMD      ANET       APH  ...       TYL      UBER  \\\n",
      "timestamp                                           ...                       \n",
      "2020-10-01  0.017338  0.032607  0.000773  0.013910  ...  0.024960  0.019505   \n",
      "2020-10-02 -0.041832 -0.039472 -0.015456 -0.003811  ... -0.018306  0.011048   \n",
      "2020-10-05  0.039885  0.053729  0.015699  0.019893  ...  0.018391 -0.010928   \n",
      "2020-10-06 -0.001037 -0.015832 -0.017774 -0.012753  ...  0.018955 -0.022905   \n",
      "2020-10-07  0.017814  0.031938  0.042486  0.026216  ...  0.032478  0.016547   \n",
      "\n",
      "symbol            UI      VRSN      WDAY       WDC       WIT       XYZ  \\\n",
      "timestamp                                                                \n",
      "2020-10-01  0.011271  0.011601  0.018433 -0.009828 -0.008745  0.027273   \n",
      "2020-10-02 -0.019427 -0.024436 -0.008688 -0.012131 -0.010587  0.004395   \n",
      "2020-10-05  0.067183  0.006398  0.013237  0.018141  0.058404  0.071847   \n",
      "2020-10-06  0.016899 -0.006703 -0.022389 -0.007950 -0.036647 -0.029074   \n",
      "2020-10-07  0.023171  0.008584  0.045758  0.035645  0.057280  0.028468   \n",
      "\n",
      "symbol            ZM        ZS  \n",
      "timestamp                       \n",
      "2020-10-01  0.023776  0.030561  \n",
      "2020-10-02 -0.005423 -0.023517  \n",
      "2020-10-05  0.005515  0.024084  \n",
      "2020-10-06 -0.011280  0.005172  \n",
      "2020-10-07  0.010216  0.007890  \n",
      "\n",
      "[5 rows x 92 columns]\n"
     ]
    },
    {
     "name": "stderr",
     "output_type": "stream",
     "text": [
      "/var/folders/_j/71vsn5fs7rq5wmlb5w4_6xcc0000gn/T/ipykernel_30802/180964015.py:38: FutureWarning: The default fill_method='pad' in DataFrame.pct_change is deprecated and will be removed in a future version. Either fill in any non-leading NA values prior to calling pct_change or specify 'fill_method=None' to not fill NA values.\n",
      "  returns = close_prices.pct_change().dropna()\n"
     ]
    }
   ],
   "source": [
    "from sklearn.decomposition import PCA\n",
    "from sklearn.preprocessing import StandardScaler\n",
    "import numpy as np\n",
    "import pandas as pd\n",
    "\n",
    "df = pd.read_csv('HS_3650_Minute_All.csv')\n",
    "df.describe()\n",
    "df.info()\n",
    "\n",
    "import pandas as pd\n",
    "import numpy as np\n",
    "from sklearn.preprocessing import StandardScaler\n",
    "from sklearn.decomposition import PCA\n",
    "from sklearn.cluster import KMeans, DBSCAN\n",
    "from sklearn.metrics import silhouette_score\n",
    "import matplotlib.pyplot as plt\n",
    "from statsmodels.tsa.stattools import coint\n",
    "import itertools\n",
    "\n",
    "\n",
    "\n",
    "# Convert timestamp to datetime and handle timezone\n",
    "df['timestamp'] = pd.to_datetime(df['timestamp'], utc=True)\n",
    "\n",
    "# Aggregate to daily closes (last close per day per symbol)\n",
    "df_daily = df.groupby([df['timestamp'].dt.date, 'symbol'])['close'].last().reset_index()\n",
    "df_daily['timestamp'] = pd.to_datetime(df_daily['timestamp'])\n",
    "\n",
    "# Pivot to get close prices by date and symbol\n",
    "close_prices = df_daily.pivot_table(index='timestamp', columns='symbol', values='close')\n",
    "\n",
    "# Handle missing data: drop columns with excessive NaNs (e.g., >50% missing)\n",
    "threshold = len(close_prices) * 0.5\n",
    "close_prices = close_prices.dropna(axis=1, thresh=threshold)\n",
    "print(f\"Tickers after filtering: {list(close_prices.columns)}\")  # Verify tickers\n",
    "\n",
    "# Compute daily returns\n",
    "returns = close_prices.pct_change().dropna()\n",
    "print(returns.head())  # Preview\n"
   ]
  },
  {
   "cell_type": "code",
   "execution_count": 37,
   "metadata": {},
   "outputs": [
    {
     "name": "stdout",
     "output_type": "stream",
     "text": [
      "        mean_return  volatility     pca_0     pca_1     pca_2     pca_3  \\\n",
      "symbol                                                                    \n",
      "AAPL       0.000657    0.017921 -0.106755  0.036822  0.023010 -0.022196   \n",
      "ACN        0.000344    0.016113 -0.241028  0.101360  0.045499  0.033877   \n",
      "ADBE       0.000011    0.021550 -0.013946  0.129451 -0.061580  0.007961   \n",
      "ADI        0.000814    0.020242 -0.065637 -0.169731 -0.020442 -0.159056   \n",
      "ADP        0.000817    0.014557 -0.321665  0.123271  0.069832  0.047719   \n",
      "\n",
      "           pca_4  \n",
      "symbol            \n",
      "AAPL   -0.025097  \n",
      "ACN    -0.044674  \n",
      "ADBE   -0.104428  \n",
      "ADI    -0.003646  \n",
      "ADP     0.009426  \n"
     ]
    }
   ],
   "source": [
    "# Features: mean return and volatility\n",
    "features = pd.DataFrame({\n",
    "    'mean_return': returns.mean(),\n",
    "    'volatility': returns.std()\n",
    "}, index=returns.columns)\n",
    "\n",
    "# Add PCA components (5 dimensions)\n",
    "pca = PCA(n_components=5)\n",
    "pca_components = pca.fit_transform(returns.T)  # Transpose so stocks are rows\n",
    "pca_df = pd.DataFrame(pca_components, index=returns.columns, columns=[f'pca_{i}' for i in range(5)])\n",
    "features = pd.concat([features, pca_df], axis=1)\n",
    "\n",
    "# Normalize features\n",
    "scaler = StandardScaler()\n",
    "features_scaled = scaler.fit_transform(features.dropna())\n",
    "features = features.dropna()  # Align index\n",
    "print(features.head())  # Preview"
   ]
  },
  {
   "cell_type": "code",
   "execution_count": 38,
   "metadata": {},
   "outputs": [
    {
     "name": "stdout",
     "output_type": "stream",
     "text": [
      "        mean_return  volatility     pca_0     pca_1     pca_2     pca_3  \\\n",
      "symbol                                                                    \n",
      "AAPL       0.000657    0.017921 -0.106755  0.036822  0.023010 -0.022196   \n",
      "ACN        0.000344    0.016113 -0.241028  0.101360  0.045499  0.033877   \n",
      "ADBE       0.000011    0.021550 -0.013946  0.129451 -0.061580  0.007961   \n",
      "ADI        0.000814    0.020242 -0.065637 -0.169731 -0.020442 -0.159056   \n",
      "ADP        0.000817    0.014557 -0.321665  0.123271  0.069832  0.047719   \n",
      "\n",
      "           pca_4  \n",
      "symbol            \n",
      "AAPL   -0.025097  \n",
      "ACN    -0.044674  \n",
      "ADBE   -0.104428  \n",
      "ADI    -0.003646  \n",
      "ADP     0.009426  \n"
     ]
    }
   ],
   "source": [
    "# Normalize features\n",
    "scaler = StandardScaler()\n",
    "features_scaled = scaler.fit_transform(features.dropna())  # Drop NaNs if any\n",
    "features = features.dropna()  # Align index\n",
    "print(features.head())  # Preview"
   ]
  },
  {
   "cell_type": "code",
   "execution_count": 39,
   "metadata": {},
   "outputs": [],
   "source": [
    "\n",
    "# Add PCA components (reduce returns to 5 dimensions for similarity in time-series behavior)\n",
    "pca = PCA(n_components=5)\n",
    "pca_components = pca.fit_transform(returns.T)  # Transpose so stocks are rows\n",
    "pca_df = pd.DataFrame(pca_components, index=returns.columns, columns=[f'pca_{i}' for i in range(5)])\n",
    "features = pd.concat([features, pca_df], axis=1)"
   ]
  },
  {
   "cell_type": "code",
   "execution_count": 40,
   "metadata": {},
   "outputs": [
    {
     "name": "stdout",
     "output_type": "stream",
     "text": [
      "        mean_return  volatility     pca_0     pca_1     pca_2     pca_3  \\\n",
      "symbol                                                                    \n",
      "AAPL       0.000657    0.017921 -0.106755  0.036822  0.023010 -0.022196   \n",
      "ACN        0.000344    0.016113 -0.241028  0.101360  0.045499  0.033877   \n",
      "ADBE       0.000011    0.021550 -0.013946  0.129451 -0.061580  0.007961   \n",
      "ADI        0.000814    0.020242 -0.065637 -0.169731 -0.020442 -0.159056   \n",
      "ADP        0.000817    0.014557 -0.321665  0.123271  0.069832  0.047719   \n",
      "\n",
      "           pca_4     pca_0     pca_1     pca_2     pca_3     pca_4  \n",
      "symbol                                                              \n",
      "AAPL   -0.025097 -0.106755  0.036822  0.023010 -0.022194 -0.025091  \n",
      "ACN    -0.044674 -0.241028  0.101360  0.045499  0.033877 -0.044605  \n",
      "ADBE   -0.104428 -0.013946  0.129451 -0.061581  0.007958 -0.104501  \n",
      "ADI    -0.003646 -0.065637 -0.169731 -0.020442 -0.159055 -0.003620  \n",
      "ADP     0.009426 -0.321665  0.123271  0.069831  0.047712  0.009328  \n"
     ]
    }
   ],
   "source": [
    "# Normalize features\n",
    "scaler = StandardScaler()\n",
    "features_scaled = scaler.fit_transform(features.dropna())  # Drop NaNs if any\n",
    "features = features.dropna()  # Align index\n",
    "print(features.head())  # Preview"
   ]
  },
  {
   "cell_type": "code",
   "execution_count": 41,
   "metadata": {},
   "outputs": [
    {
     "data": {
      "image/png": "[encoded data removed]",
      "text/plain": [
       "<Figure size 1000x500 with 2 Axes>"
      ]
     },
     "metadata": {},
     "output_type": "display_data"
    },
    {
     "name": "stdout",
     "output_type": "stream",
     "text": [
      "kmeans_cluster\n",
      "0    48\n",
      "1    16\n",
      "2     1\n",
      "3     1\n",
      "4    26\n",
      "dtype: int64\n",
      "        mean_return  volatility  kmeans_cluster\n",
      "symbol                                         \n",
      "AAPL       0.000657    0.017921               0\n",
      "ACN        0.000344    0.016113               0\n",
      "ADBE       0.000011    0.021550               0\n",
      "ADI        0.000814    0.020242               4\n",
      "ADP        0.000817    0.014557               0\n",
      "...             ...         ...             ...\n",
      "WDC        0.000937    0.029029               4\n",
      "WIT        0.000344    0.019292               0\n",
      "XYZ        0.000161    0.038983               1\n",
      "ZM        -0.001035    0.029499               1\n",
      "ZS         0.001123    0.033063               1\n",
      "\n",
      "[92 rows x 3 columns]\n"
     ]
    }
   ],
   "source": [
    "# Elbow method for optimal K\n",
    "inertias = []\n",
    "sil_scores = []\n",
    "k_range = range(2, 50)\n",
    "for k in k_range:\n",
    "    kmeans = KMeans(n_clusters=k, random_state=42, n_init=10)\n",
    "    kmeans.fit(features_scaled)\n",
    "    inertias.append(kmeans.inertia_)\n",
    "    sil_scores.append(silhouette_score(features_scaled, kmeans.labels_))\n",
    "\n",
    "# Plot elbow and silhouette\n",
    "plt.figure(figsize=(10, 5))\n",
    "plt.subplot(1, 2, 1)\n",
    "plt.plot(k_range, inertias, 'bo-')\n",
    "plt.xlabel('K')\n",
    "plt.ylabel('Inertia')\n",
    "plt.title('Elbow Method')\n",
    "plt.subplot(1, 2, 2)\n",
    "plt.plot(k_range, sil_scores, 'bo-')\n",
    "plt.xlabel('K')\n",
    "plt.ylabel('Silhouette Score')\n",
    "plt.title('Silhouette Method')\n",
    "plt.show()\n",
    "\n",
    "# Apply K-Means (choose K from plot, e.g., 5)\n",
    "optimal_k = 5  # Update based on elbow/silhouette\n",
    "kmeans = KMeans(n_clusters=optimal_k, random_state=42, n_init=10)\n",
    "features['kmeans_cluster'] = kmeans.fit_predict(features_scaled)\n",
    "print(features.groupby('kmeans_cluster').size())  # Cluster sizes\n",
    "print(features[['mean_return', 'volatility', 'kmeans_cluster']])  # View results"
   ]
  },
  {
   "cell_type": "code",
   "execution_count": 42,
   "metadata": {},
   "outputs": [
    {
     "data": {
      "image/png": "[encoded data removed]",
      "text/plain": [
       "<Figure size 640x480 with 1 Axes>"
      ]
     },
     "metadata": {},
     "output_type": "display_data"
    },
    {
     "name": "stdout",
     "output_type": "stream",
     "text": [
      "dbscan_cluster\n",
      "-1    15\n",
      " 0    72\n",
      " 1     5\n",
      "dtype: int64\n",
      "        mean_return  volatility  dbscan_cluster\n",
      "symbol                                         \n",
      "AAPL       0.000657    0.017921               0\n",
      "ACN        0.000344    0.016113               0\n",
      "ADBE       0.000011    0.021550               0\n",
      "ADI        0.000814    0.020242               0\n",
      "ADP        0.000817    0.014557               0\n",
      "...             ...         ...             ...\n",
      "WDC        0.000937    0.029029              -1\n",
      "WIT        0.000344    0.019292               0\n",
      "XYZ        0.000161    0.038983              -1\n",
      "ZM        -0.001035    0.029499              -1\n",
      "ZS         0.001123    0.033063               1\n",
      "\n",
      "[92 rows x 3 columns]\n"
     ]
    }
   ],
   "source": [
    "from sklearn.neighbors import NearestNeighbors\n",
    "\n",
    "# K-distance plot for eps\n",
    "neighbors = NearestNeighbors(n_neighbors=5)\n",
    "distances = neighbors.fit(features_scaled).kneighbors(features_scaled)[0]\n",
    "distances = np.sort(distances[:, 4], axis=0)\n",
    "plt.plot(distances)\n",
    "plt.xlabel('Points')\n",
    "plt.ylabel('Distance to 4th Nearest')\n",
    "plt.title('K-Distance Plot for Eps')\n",
    "plt.show()  # Choose eps at \"knee\" (e.g., 1.0-2.0)\n",
    "\n",
    "# Apply DBSCAN\n",
    "dbscan = DBSCAN(eps=1.5, min_samples=5)  # Tune eps\n",
    "features['dbscan_cluster'] = dbscan.fit_predict(features_scaled)\n",
    "print(features.groupby('dbscan_cluster').size())  # -1 = noise\n",
    "print(features[['mean_return', 'volatility', 'dbscan_cluster']])  # View results"
   ]
  },
  {
   "cell_type": "code",
   "execution_count": 43,
   "metadata": {},
   "outputs": [
    {
     "name": "stdout",
     "output_type": "stream",
     "text": [
      "K-Means Clusters:\n",
      "Cluster 0 (48 stocks):\n",
      "['AAPL', 'ACN', 'ADBE', 'ADP', 'ADSK', 'APH', 'BR', 'CDW', 'CHKP', 'CPAY', 'CRM', 'CSCO', 'CTSH', 'ERIC', 'FI', 'FICO', 'FIS', 'GDDY', 'GIB', 'GLW', 'GRMN', 'HPE', 'HPQ', 'IBM', 'INFY', 'INTU', 'IT', 'KEYS', 'LDOS', 'MSFT', 'MSI', 'NOK', 'NTAP', 'ORCL', 'PAYX', 'PTC', 'ROP', 'SAP', 'SONY', 'SSNC', 'STX', 'TDY', 'TEL', 'TYL', 'UI', 'VRSN', 'WDAY', 'WIT']\n",
      "\n",
      "Cluster 1 (16 stocks):\n",
      "['CRWD', 'CYBR', 'DDOG', 'FTNT', 'HUBS', 'NET', 'NOW', 'PANW', 'PLTR', 'SHOP', 'SNOW', 'TEAM', 'UBER', 'XYZ', 'ZM', 'ZS']\n",
      "\n",
      "Cluster 2 (1 stocks):\n",
      "['MSTR']\n",
      "\n",
      "Cluster 3 (1 stocks):\n",
      "['SMCI']\n",
      "\n",
      "Cluster 4 (26 stocks):\n",
      "['ADI', 'AMAT', 'AMD', 'ANET', 'ASML', 'ASX', 'AVGO', 'CDNS', 'DELL', 'INTC', 'JBL', 'KLAC', 'LRCX', 'MCHP', 'MPWR', 'MRVL', 'MU', 'NVDA', 'NXPI', 'ON', 'QCOM', 'SNPS', 'STM', 'TSM', 'TXN', 'WDC']\n",
      "\n"
     ]
    }
   ],
   "source": [
    "# List K-Means clusters\n",
    "print(\"K-Means Clusters:\")\n",
    "for cluster_id in sorted(features['kmeans_cluster'].unique()):\n",
    "    cluster_stocks = features[features['kmeans_cluster'] == cluster_id].index.tolist()\n",
    "    print(f\"Cluster {cluster_id} ({len(cluster_stocks)} stocks):\")\n",
    "    print(cluster_stocks)\n",
    "    print()  # Blank line for readability"
   ]
  },
  {
   "cell_type": "code",
   "execution_count": 44,
   "metadata": {},
   "outputs": [
    {
     "name": "stdout",
     "output_type": "stream",
     "text": [
      "DBSCAN Clusters:\n",
      "Noise (-1) (15 stocks):\n",
      "['ANET', 'DELL', 'MSTR', 'NET', 'NOK', 'NVDA', 'PLTR', 'SHOP', 'SMCI', 'SNOW', 'UBER', 'UI', 'WDC', 'XYZ', 'ZM']\n",
      "\n",
      "Cluster 0 (72 stocks):\n",
      "['AAPL', 'ACN', 'ADBE', 'ADI', 'ADP', 'ADSK', 'AMAT', 'AMD', 'APH', 'ASML', 'ASX', 'AVGO', 'BR', 'CDNS', 'CDW', 'CHKP', 'CPAY', 'CRM', 'CSCO', 'CTSH', 'CYBR', 'ERIC', 'FI', 'FICO', 'FIS', 'FTNT', 'GDDY', 'GIB', 'GLW', 'GRMN', 'HPE', 'HPQ', 'IBM', 'INFY', 'INTC', 'INTU', 'IT', 'JBL', 'KEYS', 'KLAC', 'LDOS', 'LRCX', 'MCHP', 'MPWR', 'MRVL', 'MSFT', 'MSI', 'MU', 'NOW', 'NTAP', 'NXPI', 'ON', 'ORCL', 'PANW', 'PAYX', 'PTC', 'QCOM', 'ROP', 'SAP', 'SNPS', 'SONY', 'SSNC', 'STM', 'STX', 'TDY', 'TEL', 'TSM', 'TXN', 'TYL', 'VRSN', 'WDAY', 'WIT']\n",
      "\n",
      "Cluster 1 (5 stocks):\n",
      "['CRWD', 'DDOG', 'HUBS', 'TEAM', 'ZS']\n",
      "\n"
     ]
    }
   ],
   "source": [
    "# List DBSCAN clusters\n",
    "print(\"DBSCAN Clusters:\")\n",
    "for cluster_id in sorted(features['dbscan_cluster'].unique()):\n",
    "    cluster_stocks = features[features['dbscan_cluster'] == cluster_id].index.tolist()\n",
    "    if cluster_id == -1:\n",
    "        print(f\"Noise (-1) ({len(cluster_stocks)} stocks):\")\n",
    "    else:\n",
    "        print(f\"Cluster {cluster_id} ({len(cluster_stocks)} stocks):\")\n",
    "    print(cluster_stocks)\n",
    "    print()  # Blank line for readability"
   ]
  },
  {
   "cell_type": "code",
   "execution_count": 45,
   "metadata": {},
   "outputs": [
    {
     "data": {
      "image/png": "[encoded data removed]",
      "text/plain": [
       "<Figure size 640x480 with 1 Axes>"
      ]
     },
     "metadata": {},
     "output_type": "display_data"
    },
    {
     "name": "stdout",
     "output_type": "stream",
     "text": [
      "DBSCAN Clusters (eps=0.8, min_samples=3):\n",
      "Noise (-1) (46 stocks):\n",
      "['ADI', 'AMD', 'ANET', 'ASML', 'ASX', 'AVGO', 'CDNS', 'CRWD', 'CYBR', 'DDOG', 'DELL', 'ERIC', 'FICO', 'FIS', 'FTNT', 'HPE', 'HUBS', 'INTC', 'JBL', 'LDOS', 'MPWR', 'MRVL', 'MSTR', 'MU', 'NET', 'NOK', 'NOW', 'NVDA', 'ON', 'ORCL', 'PANW', 'PLTR', 'QCOM', 'SHOP', 'SMCI', 'SNOW', 'SNPS', 'TEAM', 'TSM', 'TXN', 'UBER', 'UI', 'WDC', 'XYZ', 'ZM', 'ZS']\n",
      "\n",
      "Cluster 0 (40 stocks):\n",
      "['AAPL', 'ACN', 'ADBE', 'ADP', 'ADSK', 'APH', 'BR', 'CDW', 'CHKP', 'CPAY', 'CRM', 'CSCO', 'CTSH', 'FI', 'GDDY', 'GIB', 'GLW', 'GRMN', 'HPQ', 'IBM', 'INFY', 'INTU', 'IT', 'KEYS', 'MSFT', 'MSI', 'NTAP', 'PAYX', 'PTC', 'ROP', 'SAP', 'SONY', 'SSNC', 'STX', 'TDY', 'TEL', 'TYL', 'VRSN', 'WDAY', 'WIT']\n",
      "\n",
      "Cluster 1 (3 stocks):\n",
      "['AMAT', 'KLAC', 'LRCX']\n",
      "\n",
      "Cluster 2 (3 stocks):\n",
      "['MCHP', 'NXPI', 'STM']\n",
      "\n"
     ]
    }
   ],
   "source": [
    "from sklearn.cluster import DBSCAN\n",
    "from sklearn.neighbors import NearestNeighbors\n",
    "\n",
    "# K-distance plot for finer eps\n",
    "neighbors = NearestNeighbors(n_neighbors=5)  # Match min_samples\n",
    "distances = neighbors.fit(features_scaled).kneighbors(features_scaled)[0]\n",
    "distances = np.sort(distances[:, 4], axis=0)\n",
    "plt.plot(distances)\n",
    "plt.xlabel('Points')\n",
    "plt.ylabel('Distance to 4th Nearest')\n",
    "plt.title('K-Distance Plot for Eps')\n",
    "plt.axhline(y=0.8, color='r', linestyle='--')  # Example eps\n",
    "plt.show()  # Choose smaller eps at \"knee\" (e.g., 0.5-1.0)\n",
    "\n",
    "# Apply DBSCAN with smaller eps\n",
    "dbscan = DBSCAN(eps=0.8, min_samples=3)  # Lower eps, reduced min_samples\n",
    "features['dbscan_cluster'] = dbscan.fit_predict(features_scaled)\n",
    "\n",
    "# List new DBSCAN clusters\n",
    "print(\"DBSCAN Clusters (eps=0.8, min_samples=3):\")\n",
    "for cluster_id in sorted(features['dbscan_cluster'].unique()):\n",
    "    cluster_stocks = features[features['dbscan_cluster'] == cluster_id].index.tolist()\n",
    "    if cluster_id == -1:\n",
    "        print(f\"Noise (-1) ({len(cluster_stocks)} stocks):\")\n",
    "    else:\n",
    "        print(f\"Cluster {cluster_id} ({len(cluster_stocks)} stocks):\")\n",
    "    print(cluster_stocks)\n",
    "    print()"
   ]
  },
  {
   "cell_type": "code",
   "execution_count": 46,
   "metadata": {},
   "outputs": [
    {
     "name": "stdout",
     "output_type": "stream",
     "text": [
      "K-Means Clusters (Weighted Features, K=15):\n",
      "Cluster 0 (11 stocks):\n",
      "['ADI', 'ASML', 'ASX', 'AVGO', 'DELL', 'INTC', 'JBL', 'QCOM', 'TSM', 'TXN', 'WDC']\n",
      "\n",
      "Cluster 1 (7 stocks):\n",
      "['ERIC', 'FICO', 'FIS', 'LDOS', 'NOK', 'ORCL', 'UI']\n",
      "\n",
      "Cluster 2 (9 stocks):\n",
      "['CRWD', 'DDOG', 'HUBS', 'SHOP', 'SNOW', 'TEAM', 'XYZ', 'ZM', 'ZS']\n",
      "\n",
      "Cluster 3 (1 stocks):\n",
      "['MSTR']\n",
      "\n",
      "Cluster 4 (3 stocks):\n",
      "['AMAT', 'KLAC', 'LRCX']\n",
      "\n",
      "Cluster 5 (1 stocks):\n",
      "['SMCI']\n",
      "\n",
      "Cluster 6 (9 stocks):\n",
      "['APH', 'CDW', 'GLW', 'HPE', 'HPQ', 'KEYS', 'NTAP', 'STX', 'TEL']\n",
      "\n",
      "Cluster 7 (6 stocks):\n",
      "['AMD', 'MPWR', 'MRVL', 'MU', 'NVDA', 'ON']\n",
      "\n",
      "Cluster 8 (5 stocks):\n",
      "['CYBR', 'FTNT', 'NOW', 'PANW', 'UBER']\n",
      "\n",
      "Cluster 9 (22 stocks):\n",
      "['ACN', 'ADP', 'BR', 'CHKP', 'CPAY', 'CSCO', 'CTSH', 'FI', 'GIB', 'GRMN', 'IBM', 'INFY', 'IT', 'MSI', 'PAYX', 'ROP', 'SAP', 'SONY', 'SSNC', 'TDY', 'VRSN', 'WIT']\n",
      "\n",
      "Cluster 10 (1 stocks):\n",
      "['PLTR']\n",
      "\n",
      "Cluster 11 (3 stocks):\n",
      "['MCHP', 'NXPI', 'STM']\n",
      "\n",
      "Cluster 12 (10 stocks):\n",
      "['AAPL', 'ADBE', 'ADSK', 'CRM', 'GDDY', 'INTU', 'MSFT', 'PTC', 'TYL', 'WDAY']\n",
      "\n",
      "Cluster 13 (3 stocks):\n",
      "['ANET', 'CDNS', 'SNPS']\n",
      "\n",
      "Cluster 14 (1 stocks):\n",
      "['NET']\n",
      "\n"
     ]
    }
   ],
   "source": [
    "# Adjust feature weights (e.g., double volatility and PCA weights)\n",
    "features_weighted = features.copy()\n",
    "features_weighted['volatility'] *= 2  # Emphasize volatility\n",
    "features_weighted[[f'pca_{i}' for i in range(5)]] *= 2  # Emphasize PCA\n",
    "features_weighted_scaled = StandardScaler().fit_transform(features_weighted)\n",
    "\n",
    "# Re-run K-Means with weighted features\n",
    "kmeans = KMeans(n_clusters=15, random_state=42, n_init=10)\n",
    "features['kmeans_cluster_weighted'] = kmeans.fit_predict(features_weighted_scaled)\n",
    "\n",
    "# List weighted K-Means clusters\n",
    "print(\"K-Means Clusters (Weighted Features, K=15):\")\n",
    "for cluster_id in sorted(features['kmeans_cluster_weighted'].unique()):\n",
    "    cluster_stocks = features[features['kmeans_cluster_weighted'] == cluster_id].index.tolist()\n",
    "    print(f\"Cluster {cluster_id} ({len(cluster_stocks)} stocks):\")\n",
    "    print(cluster_stocks)\n",
    "    print()"
   ]
  },
  {
   "cell_type": "code",
   "execution_count": 47,
   "metadata": {},
   "outputs": [
    {
     "name": "stdout",
     "output_type": "stream",
     "text": [
      "K-Means Clusters (2 PCA Components, K=15):\n",
      "Cluster 0 (5 stocks):\n",
      "['ADBE', 'ADSK', 'CRM', 'TYL', 'WDAY']\n",
      "\n",
      "Cluster 1 (4 stocks):\n",
      "['AMD', 'MPWR', 'MRVL', 'NVDA']\n",
      "\n",
      "Cluster 2 (8 stocks):\n",
      "['CRWD', 'DDOG', 'HUBS', 'SHOP', 'SNOW', 'TEAM', 'XYZ', 'ZS']\n",
      "\n",
      "Cluster 3 (23 stocks):\n",
      "['AAPL', 'ACN', 'ADP', 'BR', 'CDW', 'CHKP', 'CSCO', 'CTSH', 'FI', 'GIB', 'GRMN', 'IBM', 'INFY', 'IT', 'LDOS', 'MSFT', 'MSI', 'PAYX', 'ROP', 'SAP', 'SSNC', 'TDY', 'VRSN']\n",
      "\n",
      "Cluster 4 (1 stocks):\n",
      "['SMCI']\n",
      "\n",
      "Cluster 5 (7 stocks):\n",
      "['ANET', 'ASX', 'AVGO', 'DELL', 'JBL', 'STX', 'TSM']\n",
      "\n",
      "Cluster 6 (1 stocks):\n",
      "['MSTR']\n",
      "\n",
      "Cluster 7 (8 stocks):\n",
      "['CDNS', 'FICO', 'GDDY', 'INTU', 'ORCL', 'PTC', 'SNPS', 'UI']\n",
      "\n",
      "Cluster 8 (2 stocks):\n",
      "['NET', 'PLTR']\n",
      "\n",
      "Cluster 9 (6 stocks):\n",
      "['ASML', 'INTC', 'MCHP', 'NXPI', 'QCOM', 'STM']\n",
      "\n",
      "Cluster 10 (6 stocks):\n",
      "['AMAT', 'KLAC', 'LRCX', 'MU', 'ON', 'WDC']\n",
      "\n",
      "Cluster 11 (5 stocks):\n",
      "['CYBR', 'FTNT', 'NOW', 'PANW', 'UBER']\n",
      "\n",
      "Cluster 12 (6 stocks):\n",
      "['CPAY', 'ERIC', 'FIS', 'NOK', 'SONY', 'WIT']\n",
      "\n",
      "Cluster 13 (9 stocks):\n",
      "['ADI', 'APH', 'GLW', 'HPE', 'HPQ', 'KEYS', 'NTAP', 'TEL', 'TXN']\n",
      "\n",
      "Cluster 14 (1 stocks):\n",
      "['ZM']\n",
      "\n"
     ]
    }
   ],
   "source": [
    "# Recompute features with fewer PCA components\n",
    "pca = PCA(n_components=2)  # Reduce to 2 dimensions\n",
    "pca_components = pca.fit_transform(returns.T)\n",
    "pca_df = pd.DataFrame(pca_components, index=returns.columns, columns=['pca_0', 'pca_1'])\n",
    "features_reduced = pd.DataFrame({\n",
    "    'mean_return': returns.mean(),\n",
    "    'volatility': returns.std()\n",
    "}, index=returns.columns)\n",
    "features_reduced = pd.concat([features_reduced, pca_df], axis=1)\n",
    "\n",
    "# Normalize\n",
    "features_reduced_scaled = StandardScaler().fit_transform(features_reduced.dropna())\n",
    "features_reduced = features_reduced.dropna()\n",
    "\n",
    "# Re-run K-Means\n",
    "kmeans = KMeans(n_clusters=15, random_state=42, n_init=10)\n",
    "features_reduced['kmeans_cluster'] = kmeans.fit_predict(features_reduced_scaled)\n",
    "\n",
    "# List reduced K-Means clusters\n",
    "print(\"K-Means Clusters (2 PCA Components, K=15):\")\n",
    "for cluster_id in sorted(features_reduced['kmeans_cluster'].unique()):\n",
    "    cluster_stocks = features_reduced[features_reduced['kmeans_cluster'] == cluster_id].index.tolist()\n",
    "    print(f\"Cluster {cluster_id} ({len(cluster_stocks)} stocks):\")\n",
    "    print(cluster_stocks)\n",
    "    print()"
   ]
  },
  {
   "cell_type": "code",
   "execution_count": 48,
   "metadata": {},
   "outputs": [
    {
     "name": "stdout",
     "output_type": "stream",
     "text": [
      "K-Means Cluster Sizes:\n",
      "kmeans_cluster\n",
      "0    48\n",
      "1    16\n",
      "2     1\n",
      "3     1\n",
      "4    26\n",
      "Name: count, dtype: int64\n",
      "\n",
      "DBSCAN Cluster Sizes:\n",
      "dbscan_cluster\n",
      "-1    46\n",
      " 0    40\n",
      " 1     3\n",
      " 2     3\n",
      "Name: count, dtype: int64\n"
     ]
    },
    {
     "data": {
      "image/png": "[encoded data removed]",
      "text/plain": [
       "<Figure size 1200x500 with 2 Axes>"
      ]
     },
     "metadata": {},
     "output_type": "display_data"
    }
   ],
   "source": [
    "# K-Means size distribution\n",
    "print(\"K-Means Cluster Sizes:\")\n",
    "print(features['kmeans_cluster'].value_counts().sort_index())\n",
    "\n",
    "# DBSCAN size distribution\n",
    "print(\"\\nDBSCAN Cluster Sizes:\")\n",
    "print(features['dbscan_cluster'].value_counts().sort_index())\n",
    "\n",
    "# Plot distributions\n",
    "plt.figure(figsize=(12, 5))\n",
    "plt.subplot(1, 2, 1)\n",
    "features['kmeans_cluster'].value_counts().sort_index().plot(kind='bar')\n",
    "plt.xlabel('Cluster ID')\n",
    "plt.ylabel('Number of Stocks')\n",
    "plt.title('K-Means Cluster Distribution')\n",
    "plt.subplot(1, 2, 2)\n",
    "features['dbscan_cluster'].value_counts().sort_index().plot(kind='bar')\n",
    "plt.xlabel('Cluster ID (-1 = Noise)')\n",
    "plt.ylabel('Number of Stocks')\n",
    "plt.title('DBSCAN Cluster Distribution')\n",
    "plt.tight_layout()\n",
    "plt.show()"
   ]
  },
  {
   "cell_type": "code",
   "execution_count": 49,
   "metadata": {},
   "outputs": [
    {
     "name": "stdout",
     "output_type": "stream",
     "text": [
      "Cointegrated Pairs:\n",
      "     Stock1 Stock2       P-Value\n",
      "0      AAPL    ACN  0.000000e+00\n",
      "1012   NTAP    SAP  0.000000e+00\n",
      "1011   NTAP    ROP  0.000000e+00\n",
      "1010   NTAP    PTC  0.000000e+00\n",
      "1009   NTAP   PAYX  0.000000e+00\n",
      "...     ...    ...           ...\n",
      "580      FI   LDOS  4.191144e-09\n",
      "596      FI     UI  1.243198e-08\n",
      "577      FI   INTU  1.468203e-08\n",
      "597      FI   VRSN  1.648618e-08\n",
      "754    GRMN   INTU  4.432251e-08\n",
      "\n",
      "[1573 rows x 3 columns]\n"
     ]
    }
   ],
   "source": [
    "from statsmodels.tsa.stattools import coint\n",
    "import itertools\n",
    "\n",
    "# Use new K-Means clusters\n",
    "potential_pairs = []\n",
    "for cluster_id in features['kmeans_cluster'].unique():\n",
    "    cluster_stocks = features[features['kmeans_cluster'] == cluster_id].index.tolist()\n",
    "    if len(cluster_stocks) < 2:\n",
    "        continue\n",
    "    for stock1, stock2 in itertools.combinations(cluster_stocks, 2):\n",
    "        if stock1 in returns.columns and stock2 in returns.columns:\n",
    "            try:\n",
    "                score, pvalue, _ = coint(returns[stock1], returns[stock2])\n",
    "                if pvalue < 0.05:\n",
    "                    potential_pairs.append((stock1, stock2, pvalue))\n",
    "            except:\n",
    "                continue\n",
    "\n",
    "# Sort and display pairs\n",
    "pairs_df = pd.DataFrame(potential_pairs, columns=['Stock1', 'Stock2', 'P-Value'])\n",
    "pairs_df = pairs_df.sort_values('P-Value')\n",
    "print(\"Cointegrated Pairs:\")\n",
    "print(pairs_df)"
   ]
  },
  {
   "cell_type": "code",
   "execution_count": 50,
   "metadata": {},
   "outputs": [
    {
     "name": "stdout",
     "output_type": "stream",
     "text": [
      "Cointegrated Pairs with Correlation > 0.7:\n",
      "     Stock1 Stock2       P-Value  Correlation\n",
      "1128    ADI   AMAT  0.000000e+00     0.716551\n",
      "1138    ADI   KLAC  0.000000e+00     0.739937\n",
      "1140    ADI   MCHP  0.000000e+00     0.818401\n",
      "1425   NXPI     ON  0.000000e+00     0.797022\n",
      "1430   NXPI    TXN  0.000000e+00     0.746386\n",
      "1367   LRCX   NXPI  0.000000e+00     0.736755\n",
      "1365   LRCX     MU  0.000000e+00     0.718151\n",
      "1362   LRCX   MCHP  0.000000e+00     0.713178\n",
      "1360   KLAC    TXN  0.000000e+00     0.704628\n",
      "1354   KLAC   NXPI  0.000000e+00     0.740499\n",
      "1372   LRCX    TSM  0.000000e+00     0.708008\n",
      "1373   LRCX    TXN  0.000000e+00     0.704001\n",
      "1390   MPWR   NXPI  0.000000e+00     0.703468\n",
      "1383   MCHP    STM  0.000000e+00     0.714344\n",
      "1379   MCHP   NXPI  0.000000e+00     0.803106\n",
      "1350   KLAC   MPWR  0.000000e+00     0.740117\n",
      "1467   CRWD     ZS  0.000000e+00     0.716919\n",
      "1139    ADI   LRCX  0.000000e+00     0.726032\n",
      "1349   KLAC   MCHP  0.000000e+00     0.729876\n",
      "1191    AMD   NVDA  0.000000e+00     0.747751\n",
      "1229   ASML   LRCX  0.000000e+00     0.804565\n",
      "1228   ASML   KLAC  0.000000e+00     0.818195\n",
      "1155   AMAT   ASML  0.000000e+00     0.810347\n",
      "1162   AMAT   KLAC  0.000000e+00     0.886675\n",
      "1149    ADI    STM  0.000000e+00     0.703323\n",
      "1146    ADI     ON  0.000000e+00     0.745904\n",
      "1151    ADI    TXN  0.000000e+00     0.801128\n",
      "1163   AMAT   LRCX  0.000000e+00     0.911650\n",
      "1164   AMAT   MCHP  0.000000e+00     0.714735\n",
      "1165   AMAT   MPWR  0.000000e+00     0.708472\n",
      "1170   AMAT     ON  0.000000e+00     0.700058\n",
      "1169   AMAT   NXPI  0.000000e+00     0.734086\n",
      "1348   KLAC   LRCX  0.000000e+00     0.886507\n",
      "1295   CDNS   SNPS  0.000000e+00     0.834561\n",
      "168     ADP   PAYX  0.000000e+00     0.744004\n",
      "1380   MCHP     ON  1.167467e-27     0.773749\n",
      "1385   MCHP    TXN  1.236431e-27     0.774014\n",
      "1363   LRCX   MPWR  9.580670e-26     0.717988\n",
      "1428   NXPI    STM  1.166474e-25     0.723518\n",
      "1145    ADI   NXPI  9.817865e-24     0.798420\n"
     ]
    }
   ],
   "source": [
    "import pandas as pd\n",
    "import numpy as np\n",
    "\n",
    "# Assuming pairs_df is your cointegrated pairs DataFrame\n",
    "# Example: pairs_df = pd.DataFrame({'Stock1': ['ADP', ...], 'Stock2': ['GDDY', ...], 'P-Value': [0.0, ...]})\n",
    "\n",
    "# Compute correlations for cointegrated pairs\n",
    "correlation_threshold = 0.7  # Adjust as needed\n",
    "pairs_df['Correlation'] = pairs_df.apply(\n",
    "    lambda row: returns[row['Stock1']].corr(returns[row['Stock2']]) if row['Stock1'] in returns.columns and row['Stock2'] in returns.columns else np.nan,\n",
    "    axis=1\n",
    ")\n",
    "\n",
    "# Filter pairs with high correlation\n",
    "high_corr_pairs = pairs_df[pairs_df['Correlation'] > correlation_threshold].copy()\n",
    "print(\"Cointegrated Pairs with Correlation > {}:\".format(correlation_threshold))\n",
    "print(high_corr_pairs[['Stock1', 'Stock2', 'P-Value', 'Correlation']])"
   ]
  },
  {
   "cell_type": "code",
   "execution_count": 51,
   "metadata": {},
   "outputs": [
    {
     "name": "stdout",
     "output_type": "stream",
     "text": [
      "\n",
      "Unique Stocks with High Correlation and Cointegration:\n",
      "['ADI', 'ADP', 'AMAT', 'AMD', 'ASML', 'CDNS', 'CRWD', 'KLAC', 'LRCX', 'MCHP', 'MPWR', 'MU', 'NVDA', 'NXPI', 'ON', 'PAYX', 'SNPS', 'STM', 'TSM', 'TXN', 'ZS']\n",
      "Total number of stocks: 21\n"
     ]
    }
   ],
   "source": [
    "# Get unique stocks from high-correlation, cointegrated pairs\n",
    "high_corr_stocks = sorted(set(high_corr_pairs['Stock1']).union(set(high_corr_pairs['Stock2'])))\n",
    "print(\"\\nUnique Stocks with High Correlation and Cointegration:\")\n",
    "print(high_corr_stocks)\n",
    "print(f\"Total number of stocks: {len(high_corr_stocks)}\")"
   ]
  },
  {
   "cell_type": "code",
   "execution_count": 52,
   "metadata": {},
   "outputs": [
    {
     "name": "stdout",
     "output_type": "stream",
     "text": [
      "\n",
      "K-Means Cluster Assignments for High-Correlation Stocks:\n",
      "Cluster 0 (2 stocks):\n",
      "['ADP', 'PAYX']\n",
      "\n",
      "Cluster 1 (2 stocks):\n",
      "['CRWD', 'ZS']\n",
      "\n",
      "Cluster 4 (17 stocks):\n",
      "['ADI', 'AMAT', 'AMD', 'ASML', 'CDNS', 'KLAC', 'LRCX', 'MCHP', 'MPWR', 'MU', 'NVDA', 'NXPI', 'ON', 'SNPS', 'STM', 'TSM', 'TXN']\n",
      "\n",
      "\n",
      "DBSCAN Cluster Assignments for High-Correlation Stocks:\n",
      "Noise (-1) (13 stocks):\n",
      "['ADI', 'AMD', 'ASML', 'CDNS', 'CRWD', 'MPWR', 'MU', 'NVDA', 'ON', 'SNPS', 'TSM', 'TXN', 'ZS']\n",
      "\n",
      "Cluster 0 (2 stocks):\n",
      "['ADP', 'PAYX']\n",
      "\n",
      "Cluster 1 (3 stocks):\n",
      "['AMAT', 'KLAC', 'LRCX']\n",
      "\n",
      "Cluster 2 (3 stocks):\n",
      "['MCHP', 'NXPI', 'STM']\n",
      "\n"
     ]
    }
   ],
   "source": [
    "# Assuming features DataFrame has kmeans_cluster and dbscan_cluster\n",
    "# Filter features for high-correlation stocks\n",
    "high_corr_features = features.loc[features.index.intersection(high_corr_stocks)]\n",
    "\n",
    "# List stocks by K-Means cluster\n",
    "print(\"\\nK-Means Cluster Assignments for High-Correlation Stocks:\")\n",
    "for cluster_id in sorted(high_corr_features['kmeans_cluster'].unique()):\n",
    "    cluster_stocks = high_corr_features[high_corr_features['kmeans_cluster'] == cluster_id].index.tolist()\n",
    "    print(f\"Cluster {cluster_id} ({len(cluster_stocks)} stocks):\")\n",
    "    print(cluster_stocks)\n",
    "    print()\n",
    "\n",
    "# List stocks by DBSCAN cluster\n",
    "print(\"\\nDBSCAN Cluster Assignments for High-Correlation Stocks:\")\n",
    "for cluster_id in sorted(high_corr_features['dbscan_cluster'].unique()):\n",
    "    cluster_stocks = high_corr_features[high_corr_features['dbscan_cluster'] == cluster_id].index.tolist()\n",
    "    if cluster_id == -1:\n",
    "        print(f\"Noise (-1) ({len(cluster_stocks)} stocks):\")\n",
    "    else:\n",
    "        print(f\"Cluster {cluster_id} ({len(cluster_stocks)} stocks):\")\n",
    "    print(cluster_stocks)\n",
    "    print()"
   ]
  },
  {
   "cell_type": "code",
   "execution_count": 54,
   "metadata": {},
   "outputs": [
    {
     "name": "stdout",
     "output_type": "stream",
     "text": [
      "High-correlation pairs saved to 'high_corr_cointegrated_pairs.csv'\n",
      "Unique stocks saved to 'high_corr_LARGE_stocks.csv'\n"
     ]
    }
   ],
   "source": [
    "# Save high-correlation pairs\n",
    "high_corr_pairs.to_csv('high_corr_cointegrated_pairs.csv', index=False)\n",
    "print(\"High-correlation pairs saved to 'high_corr_cointegrated_pairs.csv'\")\n",
    "\n",
    "# Save unique stocks\n",
    "pd.DataFrame(high_corr_stocks, columns=['Stock']).to_csv('high_corr_stocks.csv', index=False)\n",
    "print(\"Unique stocks saved to 'high_corr_LARGE_stocks.csv'\")"
   ]
  }
 ],
 "metadata": {
  "kernelspec": {
   "display_name": ".venv",
   "language": "python",
   "name": "python3"
  },
  "language_info": {
   "codemirror_mode": {
    "name": "ipython",
    "version": 3
   },
   "file_extension": ".py",
   "mimetype": "text/x-python",
   "name": "python",
   "nbconvert_exporter": "python",
   "pygments_lexer": "ipython3",
   "version": "3.11.0"
  }
 },
 "nbformat": 4,
 "nbformat_minor": 2
}
